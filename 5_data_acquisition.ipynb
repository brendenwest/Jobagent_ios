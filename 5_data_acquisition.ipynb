{
  "nbformat": 4,
  "nbformat_minor": 0,
  "metadata": {
    "colab": {
      "provenance": [],
      "authorship_tag": "ABX9TyMBds+C3hsQV8Q8LrkI38hH",
      "include_colab_link": true
    },
    "kernelspec": {
      "name": "python3",
      "display_name": "Python 3"
    },
    "language_info": {
      "name": "python"
    }
  },
  "cells": [
    {
      "cell_type": "markdown",
      "metadata": {
        "id": "view-in-github",
        "colab_type": "text"
      },
      "source": [
        "<a href=\"https://colab.research.google.com/github/brendenwest/Jobagent_ios/blob/master/5_data_acquisition.ipynb\" target=\"_parent\"><img src=\"https://colab.research.google.com/assets/colab-badge.svg\" alt=\"Open In Colab\"/></a>"
      ]
    },
    {
      "cell_type": "markdown",
      "source": [
        "# Data Acquisition\n",
        "\n",
        "### Reading\n",
        "- Murach's, Chapter \n",
        "\n",
        "### Learning Outcomes\n",
        "\n",
        "- Loading data from files\n",
        "- Loading data from a database\n",
        "- loading data from the internet\n",
        "- Saving data to files\n"
      ],
      "metadata": {
        "id": "bG_vbwwF_NMe"
      }
    },
    {
      "cell_type": "markdown",
      "source": [
        "### Importing Data into a DataFrame\n",
        "\n",
        "Pandas can import structured data from a variety of file formats, as listed below.\n",
        "\n",
        "These methods only work when the data is in a tabular form. If the data isn’t tabular (e.g. with complex or nested data), the read method will throw an error. \n",
        "\n",
        "Some common file formats are:\n",
        "\n",
        "- .csv - Comma-separated values\n",
        "- .tsv - Tab separated values\n",
        "- .xls, .xlsx - Excel spreadsheet\n",
        "- .json - JavaScript Object Notation (JSON)\n",
        "- .xml - Extensible Markup Language\n",
        "- .zip - Zip archive \n",
        "\n",
        "These Pandas read methods import files directly into a DataFrame if the data is in the shape of a table:\n",
        "\n",
        "```\n",
        "read_csv(file) \n",
        "read_excel(file)\n",
        "read_stata(file,columns) \n",
        "read_json(file)\n",
        "read_hdf(file,columns) \n",
        "read_sas(file)\n",
        "read_sql_query(query,con)\n",
        "```\n",
        "\n",
        "The `file` can be an internet url:\n"
      ],
      "metadata": {
        "id": "5-FomjEZAczA"
      }
    },
    {
      "cell_type": "code",
      "execution_count": 1,
      "metadata": {
        "id": "ftThf-wU_MOi"
      },
      "outputs": [],
      "source": [
        "import pandas as pd\n",
        "# get example data\n",
        "url = \"https://data.cdc.gov/api/views/v6ab-adf5/rows.csv?accessType=DOWNLOAD\" \n",
        "mortality_data = pd.read_csv(url)"
      ]
    },
    {
      "cell_type": "markdown",
      "source": [
        "Sometimes it's helpful to retrieve a file from the internet and save to disk before reading into a DataFrame. \n",
        "\n",
        "Python's `urllib.request` module is helpful for that:"
      ],
      "metadata": {
        "id": "y0ls41sMDcDo"
      }
    },
    {
      "cell_type": "code",
      "source": [
        "from urllib import request \n",
        "data_url = \"https://data.cdc.gov/api/views/v6ab-adf5/rows.csv?accessType=DOWNLOAD\" \n",
        "request.urlretrieve(data_url, filename='mortality_data.csv')"
      ],
      "metadata": {
        "colab": {
          "base_uri": "https://localhost:8080/"
        },
        "id": "sth3Z0BvDku0",
        "outputId": "e61ae8d9-749a-4846-ed9e-ea2ce5164350"
      },
      "execution_count": 2,
      "outputs": [
        {
          "output_type": "execute_result",
          "data": {
            "text/plain": [
              "('mortality_data.csv', <http.client.HTTPMessage at 0x7fb86ad41820>)"
            ]
          },
          "metadata": {},
          "execution_count": 2
        }
      ]
    }
  ]
}